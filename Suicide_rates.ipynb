{
 "cells": [
  {
   "cell_type": "code",
   "execution_count": 1,
   "id": "eb73ab15",
   "metadata": {},
   "outputs": [
    {
     "data": {
      "application/vnd.jupyter.widget-view+json": {
       "model_id": "96fbded499d74b9f96869a848eb96278",
       "version_major": 2,
       "version_minor": 0
      },
      "text/plain": [
       "interactive(children=(IntSlider(value=2000, description='Year:', max=2019, min=2000), Dropdown(description='Se…"
      ]
     },
     "metadata": {},
     "output_type": "display_data"
    }
   ],
   "source": [
    "# System C\n",
    "import plotly.graph_objects as go\n",
    "from plotly.subplots import make_subplots\n",
    "import pandas as pd\n",
    "import ipywidgets as widgets\n",
    "from ipywidgets import interact\n",
    "from IPython.display import display\n",
    "\n",
    "# Load sample data\n",
    "dataset = pd.read_csv('Suicide2.csv', encoding= 'unicode_escape')\n",
    "\n",
    "def plot_suicide_rate(year, sex):\n",
    "    filtered_data = dataset[(dataset['Period'] == year) & (dataset['Sex'] == sex)]\n",
    "    df_agg = filtered_data.groupby('ParentLocation')['SuicideRate'].mean().reset_index()\n",
    "\n",
    "    fig_choropleth = go.Choropleth(\n",
    "        locations = filtered_data['SpatialDimValueCode'],\n",
    "        z = filtered_data['SuicideRate'],\n",
    "        text = filtered_data['Location'],\n",
    "        colorscale = 'earth',\n",
    "        autocolorscale = False,\n",
    "        reversescale = True,\n",
    "        marker_line_color ='white',\n",
    "        colorbar_title = ''\n",
    "    )\n",
    "\n",
    "    # Create subplots with choropleth plot\n",
    "    fig = make_subplots(rows=2, cols=1, subplot_titles=('Suicide Rate Across the Globe', 'Average Suicide Rate by continent'),\n",
    "                        specs=[[{'type': 'choropleth'}], [{'type': 'bar'}]], row_heights=[0.75, 0.25])\n",
    "\n",
    "    # Add choropleth plot to subplot\n",
    "    fig.add_trace(fig_choropleth, row=1, col=1)\n",
    "\n",
    "    # Add bar chart to subplot\n",
    "    fig.add_trace(go.Bar(x=df_agg['ParentLocation'], y=df_agg['SuicideRate'], marker_color='orange'), row=2, col=1)\n",
    "\n",
    "    # Update layout\n",
    "    fig.update_layout(height=600, width=900, title_text='Age-standardised suicide rate (per 100,000 population)')\n",
    "\n",
    "    # Show figure\n",
    "    fig.show()\n",
    "\n",
    "# Create the interact widgets\n",
    "interact(plot_suicide_rate, year=widgets.IntSlider(options=dataset['Period'].unique(), value=2000,min=2000,max=2019,\n",
    "                                                   step=1, description='Year:'), \n",
    "         sex=widgets.Dropdown(options=['Both sexes','Male', 'Female'], value='Male', description='Sex:'));"
   ]
  },
  {
   "cell_type": "code",
   "execution_count": null,
   "id": "b7d77624",
   "metadata": {},
   "outputs": [],
   "source": []
  }
 ],
 "metadata": {
  "kernelspec": {
   "display_name": "Python 3 (ipykernel)",
   "language": "python",
   "name": "python3"
  },
  "language_info": {
   "codemirror_mode": {
    "name": "ipython",
    "version": 3
   },
   "file_extension": ".py",
   "mimetype": "text/x-python",
   "name": "python",
   "nbconvert_exporter": "python",
   "pygments_lexer": "ipython3",
   "version": "3.9.13"
  }
 },
 "nbformat": 4,
 "nbformat_minor": 5
}
